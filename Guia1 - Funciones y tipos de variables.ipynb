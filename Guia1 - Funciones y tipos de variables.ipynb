{
 "cells": [
  {
   "cell_type": "markdown",
   "id": "042fca31-d6a8-4e95-a2c4-e44964215d43",
   "metadata": {},
   "source": [
    "# Cargar Archivo Libreria Pandas\n",
    "###### En la carga de archivos se importa de la libreria **Pandas** la funcion **pd** para los Dataframe y poder manipular los datos que se encuentran tabulados como ocurre en la el archivo titanic.csv"
   ]
  },
  {
   "cell_type": "code",
   "execution_count": 86,
   "id": "ebf3b059-c5a3-415f-a529-ed677198cb0b",
   "metadata": {
    "scrolled": true
   },
   "outputs": [
    {
     "name": "stdout",
     "output_type": "stream",
     "text": [
      "Columnas del archivo CSV:\n",
      "Index(['Survived', 'Pclass', 'Name', 'Sex', 'Age', 'Siblings/Spouses Aboard', 'Parents/Children Aboard', 'Fare'], dtype='object')\n"
     ]
    }
   ],
   "source": [
    "# Cargar el archivo CVS para mostrar las columnas\n",
    "import pandas as pd\n",
    "data = pd.read_csv(r'C:/Users/yodid/Python Ciencia de datos/titanic.csv')\n",
    "print(\"Columnas del archivo CSV:\")\n",
    "print(data.columns)"
   ]
  },
  {
   "cell_type": "markdown",
   "id": "4a55c505-63ab-49c2-8f7a-2d5cc76c9b0e",
   "metadata": {
    "jp-MarkdownHeadingCollapsed": true
   },
   "source": [
    "La función **print** comúnmente usada en varios lenguajes de programación se usa para mostrar información de la variables contenidas en un archivo o variables previamente definidas."
   ]
  },
  {
   "cell_type": "markdown",
   "id": "90fe8671-29cd-4945-834c-6a0976db0f86",
   "metadata": {},
   "source": [
    "En el ejercicio se muestra como se muestra los datos mostrando las primeras 5 filas y las ultimas 5 filas. Especificando al final cuantas filas y columnas contiene el archivo"
   ]
  },
  {
   "cell_type": "code",
   "execution_count": 54,
   "id": "8941a464-03b9-4174-82cf-ffca69cc2468",
   "metadata": {},
   "outputs": [
    {
     "name": "stdout",
     "output_type": "stream",
     "text": [
      "     Survived  Pclass                                               Name  \\\n",
      "0           0       3                             Mr. Owen Harris Braund   \n",
      "1           1       1  Mrs. John Bradley (Florence Briggs Thayer) Cum...   \n",
      "2           1       3                              Miss. Laina Heikkinen   \n",
      "3           1       1        Mrs. Jacques Heath (Lily May Peel) Futrelle   \n",
      "4           0       3                            Mr. William Henry Allen   \n",
      "..        ...     ...                                                ...   \n",
      "882         0       2                               Rev. Juozas Montvila   \n",
      "883         1       1                        Miss. Margaret Edith Graham   \n",
      "884         0       3                     Miss. Catherine Helen Johnston   \n",
      "885         1       1                               Mr. Karl Howell Behr   \n",
      "886         0       3                                 Mr. Patrick Dooley   \n",
      "\n",
      "        Sex   Age  Siblings/Spouses Aboard  Parents/Children Aboard     Fare  \n",
      "0      male  22.0                        1                        0   7.2500  \n",
      "1    female  38.0                        1                        0  71.2833  \n",
      "2    female  26.0                        0                        0   7.9250  \n",
      "3    female  35.0                        1                        0  53.1000  \n",
      "4      male  35.0                        0                        0   8.0500  \n",
      "..      ...   ...                      ...                      ...      ...  \n",
      "882    male  27.0                        0                        0  13.0000  \n",
      "883  female  19.0                        0                        0  30.0000  \n",
      "884  female   7.0                        1                        2  23.4500  \n",
      "885    male  26.0                        0                        0  30.0000  \n",
      "886    male  32.0                        0                        0   7.7500  \n",
      "\n",
      "[887 rows x 8 columns]\n"
     ]
    }
   ],
   "source": [
    "print(data)"
   ]
  },
  {
   "cell_type": "markdown",
   "id": "38241abe-2779-4224-8c52-bf6a9fe57c8a",
   "metadata": {},
   "source": [
    "#  Mostrar los tipos de datos de cada columna"
   ]
  },
  {
   "cell_type": "markdown",
   "id": "6513de9b-e5b7-4b53-b3a9-29c6151104b9",
   "metadata": {
    "jp-MarkdownHeadingCollapsed": true
   },
   "source": [
    "<p>Previamente se mostró la infomación de los datos contenidos en el archivo, en este bloque usaremos la funcion print para visualizar la información en conjunto con la funcion <span style=\"color:blue;\">dtypes</span> que pertenece a la biblioteca  <span style=\"color:blue;\">Pandas</span> y nos ayuda para determinar que tipo de datos tenemos en los <span style=\"color:blue;\">Dataframes</span> y tener seguridad de que los datos esten acordes con los que estamos trabajando.</p>\n",
    "\n",
    "Tipos\n",
    "\n"
   ]
  },
  {
   "cell_type": "code",
   "execution_count": 106,
   "id": "366d6961-7129-43b7-89cf-acdf59201ed0",
   "metadata": {},
   "outputs": [
    {
     "name": "stdout",
     "output_type": "stream",
     "text": [
      "\n",
      "Tipos de datos de cada columna:\n",
      "Survived                     int64\n",
      "Pclass                       int64\n",
      "Name                        object\n",
      "Sex                         object\n",
      "Age                        float64\n",
      "Siblings/Spouses Aboard      int64\n",
      "Parents/Children Aboard      int64\n",
      "Fare                       float64\n",
      "dtype: object\n"
     ]
    }
   ],
   "source": [
    "# los tipos de datos de cada columna\n",
    "print(\"\\nTipos de datos de cada columna:\")\n",
    "print(data.dtypes)"
   ]
  },
  {
   "cell_type": "markdown",
   "id": "cf25b899-ac02-4048-9893-b2e1183c149e",
   "metadata": {},
   "source": [
    "## Cantidad de datos por columna\n",
    "\n",
    "<p>Para visualizar la cantidad de datos usamos la función <span style=\"color:blue;\">count</span> que pertenece a la biblioteca  <span style=\"color:blue;\">Pandas</span> determina la cantidad de datos tenemos en los <span style=\"color:blue;\">Dataframes</span> y poder saber si estan completamente diligenciadas las columnas."
   ]
  },
  {
   "cell_type": "code",
   "execution_count": 29,
   "id": "c50100e5-89df-407d-9bc2-5c58673b8c5f",
   "metadata": {},
   "outputs": [
    {
     "name": "stdout",
     "output_type": "stream",
     "text": [
      "Cantidad de datos en cada columna:\n",
      "Survived                   887\n",
      "Pclass                     887\n",
      "Name                       887\n",
      "Sex                        887\n",
      "Age                        887\n",
      "Siblings/Spouses Aboard    887\n",
      "Parents/Children Aboard    887\n",
      "Fare                       887\n",
      "dtype: int64\n"
     ]
    }
   ],
   "source": [
    "#   Mostrar la cantidad de datos en cada columna\n",
    "import pandas as pd\n",
    "print(\"Cantidad de datos en cada columna:\")\n",
    "print(data.count())"
   ]
  },
  {
   "cell_type": "markdown",
   "id": "a13ae4da-e885-4e16-99a6-cb4682429798",
   "metadata": {},
   "source": [
    "## Cantidad de valores nulos en cada columna\n",
    "<p> Con la función <span style=\"color:blue;\">isnull()</span> se valida los datos nulos y con la funcion  <span style=\"color:blue;\">sum()</span> que pertenece a la biblioteca  <span style=\"color:blue;\">numpy</span> nombre proviene de <span style=\"color:blue;\">“Numerical Python\"</span> sirve para la manipulación de gran cantidad datos haciendolos más rápido que las funciones estandar de Python"
   ]
  },
  {
   "cell_type": "code",
   "execution_count": null,
   "id": "6449be08-aa59-4b9f-b4ee-537424c62453",
   "metadata": {},
   "outputs": [],
   "source": []
  },
  {
   "cell_type": "code",
   "execution_count": 7,
   "id": "30866918-7932-41d7-adda-2f935f8e90d1",
   "metadata": {},
   "outputs": [
    {
     "name": "stdout",
     "output_type": "stream",
     "text": [
      "\n",
      "Cantidad de valores nulos en cada columna:\n",
      "Survived                   0\n",
      "Pclass                     0\n",
      "Name                       0\n",
      "Sex                        0\n",
      "Age                        0\n",
      "Siblings/Spouses Aboard    0\n",
      "Parents/Children Aboard    0\n",
      "Fare                       0\n",
      "dtype: int64\n"
     ]
    }
   ],
   "source": [
    "# Imprime la cantidad de valores nulos en cada columna\n",
    "import pandas as pd\n",
    "import numpy as np\n",
    "data = pd.read_csv(r'C:/Users/yodid/Python Ciencia de datos/titanic.csv')\n",
    "print(\"\\nCantidad de valores nulos en cada columna:\")\n",
    "print(data.isnull().sum())"
   ]
  },
  {
   "cell_type": "markdown",
   "id": "3fa4d574-865e-4c1a-8942-2b82e62a0988",
   "metadata": {},
   "source": [
    "# Valores distintos en cada columna\n",
    "##### Se una la funcion nunique para contar los valores distintos en cada columna y poder analizar si en cierta columna hay más valores de los posibles en caso dado un ejemplo: variable Survived solo pueden existir dos valores vivo o fallecido.\n"
   ]
  },
  {
   "cell_type": "code",
   "execution_count": 17,
   "id": "6b421e89-583f-447c-91cb-6776dcbd8197",
   "metadata": {},
   "outputs": [
    {
     "name": "stdout",
     "output_type": "stream",
     "text": [
      "Cantidad de valores distintos en cada columna:\n",
      "Survived                     2\n",
      "Pclass                       3\n",
      "Name                       887\n",
      "Sex                          2\n",
      "Age                         89\n",
      "Siblings/Spouses Aboard      7\n",
      "Parents/Children Aboard      7\n",
      "Fare                       248\n",
      "dtype: int64\n"
     ]
    }
   ],
   "source": [
    "# Mostrar la cantidad de valores distintos en cada columna\n",
    "print(\"Cantidad de valores distintos en cada columna:\")\n",
    "print(data.nunique())"
   ]
  },
  {
   "cell_type": "code",
   "execution_count": null,
   "id": "a425266a-643b-433a-a805-cb2063603317",
   "metadata": {},
   "outputs": [],
   "source": []
  }
 ],
 "metadata": {
  "kernelspec": {
   "display_name": "Python 3 (ipykernel)",
   "language": "python",
   "name": "python3"
  },
  "language_info": {
   "codemirror_mode": {
    "name": "ipython",
    "version": 3
   },
   "file_extension": ".py",
   "mimetype": "text/x-python",
   "name": "python",
   "nbconvert_exporter": "python",
   "pygments_lexer": "ipython3",
   "version": "3.12.4"
  }
 },
 "nbformat": 4,
 "nbformat_minor": 5
}
