{
 "cells": [
  {
   "cell_type": "markdown",
   "id": "54e8271b-9e78-4522-b7e1-0ce9c29e908f",
   "metadata": {},
   "source": [
    "# Limpieza de datos\n",
    "\n",
    "##### Se carga el archivo census_income.csv, se eliminar columnas innecesaria, se usa un for para iterar todar las columnas, luego se comienza a realizar las condiciones con IF reemplazando valor \"?\" con Unknown se apliza para las variables workclass, native-country, occupation\n",
    "\n"
   ]
  },
  {
   "cell_type": "code",
   "execution_count": 56,
   "id": "556a2de6-557b-46b5-8b25-ad6fd9f20a1c",
   "metadata": {},
   "outputs": [
    {
     "name": "stdout",
     "output_type": "stream",
     "text": [
      "DataFrame original:\n",
      "   Unnamed: 0  age         workclass  fnlwgt  education  education-num  \\\n",
      "0           0   39         State-gov   77516  Bachelors             13   \n",
      "1           1   50  Self-emp-not-inc   83311  Bachelors             13   \n",
      "2           2   38           Private  215646    HS-grad              9   \n",
      "3           3   53           Private  234721       11th              7   \n",
      "4           4   28           Private  338409  Bachelors             13   \n",
      "\n",
      "       marital-status         occupation   relationship   race     sex  \\\n",
      "0       Never-married       Adm-clerical  Not-in-family  White    Male   \n",
      "1  Married-civ-spouse    Exec-managerial        Husband  White    Male   \n",
      "2            Divorced  Handlers-cleaners  Not-in-family  White    Male   \n",
      "3  Married-civ-spouse  Handlers-cleaners        Husband  Black    Male   \n",
      "4  Married-civ-spouse     Prof-specialty           Wife  Black  Female   \n",
      "\n",
      "   capital-gain  capital-loss  hours-per-week native-country income  \n",
      "0          2174             0              40  United-States  <=50K  \n",
      "1             0             0              13  United-States  <=50K  \n",
      "2             0             0              40  United-States  <=50K  \n",
      "3             0             0              40  United-States  <=50K  \n",
      "4             0             0              40           Cuba  <=50K  \n",
      "Data limpio:\n",
      "   age         workclass  fnlwgt  education  education-num  \\\n",
      "0   39         State-gov   77516  Bachelors             13   \n",
      "1   50  Self-emp-not-inc   83311  Bachelors             13   \n",
      "2   38           Private  215646    HS-grad              9   \n",
      "3   53           Private  234721       11th              7   \n",
      "4   28           Private  338409  Bachelors             13   \n",
      "\n",
      "       marital-status         occupation   relationship   race     sex  \\\n",
      "0       Never-married       Adm-clerical  Not-in-family  White    Male   \n",
      "1  Married-civ-spouse    Exec-managerial        Husband  White    Male   \n",
      "2            Divorced  Handlers-cleaners  Not-in-family  White    Male   \n",
      "3  Married-civ-spouse  Handlers-cleaners        Husband  Black    Male   \n",
      "4  Married-civ-spouse     Prof-specialty           Wife  Black  Female   \n",
      "\n",
      "   capital-gain  capital-loss  hours-per-week native-country income  \n",
      "0          2174             0              40  United-States  <=50K  \n",
      "1             0             0              13  United-States  <=50K  \n",
      "2             0             0              40  United-States  <=50K  \n",
      "3             0             0              40  United-States  <=50K  \n",
      "4             0             0              40           Cuba  <=50K  \n"
     ]
    }
   ],
   "source": [
    "import pandas as pd\n",
    "import numpy as np\n",
    "\n",
    "# Cargar los datos\n",
    "data = pd.read_csv(r'C:/Users/yodid/Python Ciencia de datos/census_income.csv')\n",
    "\n",
    "# Mostrar las primeras filas del DataFrame original\n",
    "print(\"Data original:\")\n",
    "print(data.head())\n",
    "\n",
    "# 1. Eliminar columnas innecesarias\n",
    "if 'Unnamed: 0' in data.columns:\n",
    "    data.drop(columns=['Unnamed: 0'], inplace=True)\n",
    "    \n",
    "for index, row in data.iterrows():\n",
    "    # Rellenar valores '?' en 'workclass' con 'Unknown'\n",
    "    if row['workclass'] == '?':\n",
    "        data.at[index, 'workclass'] = 'Unknown'\n",
    "        # Rellenar valores '?' en ''native-country'' con 'Unknown'\n",
    "    if row['native-country'] == '?':\n",
    "        data.at[index, 'native-country'] = 'Unknown'\n",
    "         # Rellenar valores vacio en ''native-country'' con 'Unknown'\n",
    "    if pd.isnull(row['native-country']):\n",
    "        data.at[index, 'native-country'] = 'Unknown'\n",
    "        # Rellenar valores '?' en ''occupation'' con 'Unknown'\n",
    "    if row['occupation'] == '?':\n",
    "        data.at[index, 'occupation'] = 'Unknown'\n",
    "        # Eliminar filas con valores negativos en 'age'\n",
    "    if row['age'] < 0:\n",
    "        data.drop(index, inplace=True)\n",
    "\n",
    " #Eliminación de duplicados\n",
    "data.drop_duplicates(inplace=True)\n",
    "\n",
    "# Mostrar el DataFrame limpio\n",
    "print(\"Data limpio:\")\n",
    "print(data.head())\n",
    "\n",
    "\n"
   ]
  },
  {
   "cell_type": "code",
   "execution_count": null,
   "id": "9ebf76eb-434b-4544-9195-76779c8a4ae9",
   "metadata": {},
   "outputs": [],
   "source": []
  },
  {
   "cell_type": "code",
   "execution_count": null,
   "id": "3e5febf9-f61c-4670-9d3f-33da42612874",
   "metadata": {},
   "outputs": [],
   "source": []
  }
 ],
 "metadata": {
  "kernelspec": {
   "display_name": "Python 3 (ipykernel)",
   "language": "python",
   "name": "python3"
  },
  "language_info": {
   "codemirror_mode": {
    "name": "ipython",
    "version": 3
   },
   "file_extension": ".py",
   "mimetype": "text/x-python",
   "name": "python",
   "nbconvert_exporter": "python",
   "pygments_lexer": "ipython3",
   "version": "3.12.4"
  }
 },
 "nbformat": 4,
 "nbformat_minor": 5
}
